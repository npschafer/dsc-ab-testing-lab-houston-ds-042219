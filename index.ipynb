{
 "cells": [
  {
   "cell_type": "markdown",
   "metadata": {},
   "source": [
    "# A/B Testing - Lab\n",
    "\n",
    "## Introduction\n",
    "\n",
    "In this lab, you'll go through a the process of designing an experiment.\n",
    "\n",
    "## Objectives\n",
    "You will be able to:\n",
    "\n",
    "* Design, structure, and run an A/B test\n",
    "\n",
    "\n",
    "## The Scenario\n",
    "\n",
    "You've been tasked with designing an experiment to test whether a new email template will be more effective for your company's marketing team. The current template has a 5% response rate (with standard deviation .0475), which has outperformed numerous other templates in the past. The company is excited to test the new design that was developed internally, but nervous about losing sales if it is not to work out. As a result, they are looking to determine how many individuals they will need to serve the new email template to in order to detect a 1% performance increase (or decrease).\n",
    "\n",
    "\n",
    "## Step 1: State the Null Hypothesis, $H_0$"
   ]
  },
  {
   "cell_type": "markdown",
   "metadata": {},
   "source": [
    "State your null hypothesis here (be sure to make it quantitative as before)\n",
    "\n",
    "h_0 : The new template is no more effective than the old template."
   ]
  },
  {
   "cell_type": "markdown",
   "metadata": {},
   "source": [
    "## Step 2: State the Alternative Hypothesis, $H_1$"
   ]
  },
  {
   "cell_type": "markdown",
   "metadata": {},
   "source": [
    "State your alternative hypothesis here (be sure to make it quantitative as before)\n",
    "\n",
    "h_1 : The new template is more effective than the old template."
   ]
  },
  {
   "cell_type": "markdown",
   "metadata": {},
   "source": [
    "## Step 3: Calculate n for standard alpha and power thresholds\n",
    "\n",
    "Now define what alpha and beta you believe might be appropriate for this scenario.\n",
    "To start, arbitrarily set alpha to 0.05. From this, calculate the required sample size to detect a .01 response rate difference at a power of .8.\n",
    "\n",
    "> Note: Be sure to calculate a normalized effect size using Cohen's d from the raw response rate difference."
   ]
  },
  {
   "cell_type": "code",
   "execution_count": 24,
   "metadata": {},
   "outputs": [],
   "source": [
    "current_response=0.05\n",
    "current_standard_deviation=0.0475"
   ]
  },
  {
   "cell_type": "code",
   "execution_count": 25,
   "metadata": {},
   "outputs": [],
   "source": [
    "alpha=0.05\n",
    "response_rate_difference=0.01\n",
    "power=0.8"
   ]
  },
  {
   "cell_type": "code",
   "execution_count": 26,
   "metadata": {},
   "outputs": [
    {
     "data": {
      "text/plain": [
       "0.21052631578947367"
      ]
     },
     "execution_count": 26,
     "metadata": {},
     "output_type": "execute_result"
    }
   ],
   "source": [
    "cohens_d = response_rate_difference/current_standard_deviation\n",
    "cohens_d"
   ]
  },
  {
   "cell_type": "code",
   "execution_count": 27,
   "metadata": {},
   "outputs": [],
   "source": [
    "from statsmodels.stats.power import TTestIndPower, TTestPower"
   ]
  },
  {
   "cell_type": "code",
   "execution_count": 35,
   "metadata": {},
   "outputs": [],
   "source": [
    "\"\"\"\n",
    " def solve_power(self, effect_size=None, nobs=None, alpha=None, power=None,\n",
    "                    alternative='two-sided'):\n",
    "        '''solve for any one parameter of the power of a one sample t-test\n",
    "\n",
    "        for the one sample t-test the keywords are:\n",
    "            effect_size, nobs, alpha, power\n",
    "\n",
    "        Exactly one needs to be ``None``, all others need numeric values.\n",
    "\n",
    "        This test can also be used for a paired t-test, where effect size is\n",
    "        defined in terms of the mean difference, and nobs is the number of\n",
    "        pairs.\n",
    "\n",
    "        Parameters\n",
    "        ----------\n",
    "        effect_size : float\n",
    "            standardized effect size, mean divided by the standard deviation.\n",
    "            effect size has to be positive.\n",
    "        nobs : int or float\n",
    "            sample size, number of observations.\n",
    "        alpha : float in interval (0,1)\n",
    "            significance level, e.g. 0.05, is the probability of a type I\n",
    "            error, that is wrong rejections if the Null Hypothesis is true.\n",
    "        power : float in interval (0,1)\n",
    "            power of the test, e.g. 0.8, is one minus the probability of a\n",
    "            type II error. Power is the probability that the test correctly\n",
    "            rejects the Null Hypothesis if the Alternative Hypothesis is true.\n",
    "        alternative : string, 'two-sided' (default) or 'one-sided'\n",
    "            extra argument to choose whether the power is calculated for a\n",
    "            two-sided (default) or one sided test.\n",
    "            'one-sided' assumes we are in the relevant tail.\n",
    "\n",
    "        Returns\n",
    "        -------\n",
    "        value : float\n",
    "            The value of the parameter that was set to None in the call. The\n",
    "            value solves the power equation given the remaining parameters.\n",
    "\n",
    "\"\"\"\n",
    "test = TTestIndPower() # for two sample tests"
   ]
  },
  {
   "cell_type": "code",
   "execution_count": 36,
   "metadata": {},
   "outputs": [
    {
     "data": {
      "text/plain": [
       "279.6667468021971"
      ]
     },
     "execution_count": 36,
     "metadata": {},
     "output_type": "execute_result"
    }
   ],
   "source": [
    "test.solve_power(effect_size=cohens_d,alpha=alpha,alternative='larger',power=power)"
   ]
  },
  {
   "cell_type": "markdown",
   "metadata": {},
   "source": [
    "## Step 4: Plot Power Curves for Alternative Experiment Formulations\n",
    "\n",
    "While you now know how many observations you need in order to run a t-test for the given formulation above, its worth exploring what sample sizes would be required for alternative test formulations. For example, how much does the required sample size increase if you put the more stringent criteria of $\\alpha=.01$? Or what is the sample size required to detect a .03 response rate difference at the same $\\alpha$ and power thresholds? To investigate this, plot power vs sample size curves for alpha values of .01, .05 and .1 along with varying response rate differences of .005, .01, .02 and .03."
   ]
  },
  {
   "cell_type": "code",
   "execution_count": 46,
   "metadata": {},
   "outputs": [],
   "source": [
    "import numpy as np\n",
    "import matplotlib.pyplot as plt"
   ]
  },
  {
   "cell_type": "code",
   "execution_count": 47,
   "metadata": {},
   "outputs": [
    {
     "data": {
      "text/plain": [
       "<Figure size 432x288 with 0 Axes>"
      ]
     },
     "metadata": {},
     "output_type": "display_data"
    },
    {
     "data": {
      "image/png": "[encoded data removed]",
      "text/plain": [
       "<Figure size 432x288 with 1 Axes>"
      ]
     },
     "metadata": {
      "needs_background": "light"
     },
     "output_type": "display_data"
    },
    {
     "data": {
      "text/plain": [
       "<Figure size 432x288 with 0 Axes>"
      ]
     },
     "metadata": {},
     "output_type": "display_data"
    },
    {
     "data": {
      "image/png": "[encoded data removed]",
      "text/plain": [
       "<Figure size 432x288 with 1 Axes>"
      ]
     },
     "metadata": {
      "needs_background": "light"
     },
     "output_type": "display_data"
    },
    {
     "data": {
      "text/plain": [
       "<Figure size 432x288 with 0 Axes>"
      ]
     },
     "metadata": {},
     "output_type": "display_data"
    },
    {
     "data": {
      "image/png": "[encoded data removed]",
      "text/plain": [
       "<Figure size 432x288 with 1 Axes>"
      ]
     },
     "metadata": {
      "needs_background": "light"
     },
     "output_type": "display_data"
    }
   ],
   "source": [
    "#Your code; plot power curves for the various alpha and effect size combinations\n",
    "\"\"\"\n",
    "TTestIndPower.plot_power(dep_var='nobs', nobs=None, effect_size=None, alpha=0.05, ax=None, title=None, plt_kwds=None, **kwds)\n",
    "plot power with number of observations or effect size on x-axis\n",
    "\n",
    "Parameters\n",
    "dep_var (string in ['nobs', 'effect_size', 'alpha']) – This specifies which variable is used for the horizontal axis. If dep_var=’nobs’ (default), then one curve is created for each value of effect_size. If dep_var=’effect_size’ or alpha, then one curve is created for each value of nobs.\n",
    "\n",
    "nobs (scalar or array_like) – specifies the values of the number of observations in the plot\n",
    "\n",
    "effect_size (scalar or array_like) – specifies the values of the effect_size in the plot\n",
    "\n",
    "alpha (float or array_like) – The significance level (type I error) used in the power calculation. Can only be more than a scalar, if dep_var='alpha'\n",
    "\n",
    "ax (None or axis instance) – If ax is None, than a matplotlib figure is created. If ax is a matplotlib axis instance, then it is reused, and the plot elements are created with it.\n",
    "\n",
    "title (string) – title for the axis. Use an empty string, '', to avoid a title.\n",
    "\n",
    "plt_kwds (None or dict) – not used yet\n",
    "\n",
    "kwds (optional keywords for power function) – These remaining keyword arguments are used as arguments to the power function. Many power function support alternative as a keyword argument, two-sample test support ratio.\n",
    "\"\"\"\n",
    "alpha_list = [.01, .05, .1]\n",
    "for alpha in alpha_list:\n",
    "    plt.figure()\n",
    "    test.plot_power(nobs=300, effect_size=np.array([.005, .01, .02, .03])/current_standard_deviation,\n",
    "                alpha=alpha,alternative='larger')"
   ]
  },
  {
   "cell_type": "markdown",
   "metadata": {},
   "source": [
    "## Step 5: Propose a Final Experimental Design\n",
    "\n",
    "Finally, now that you've explored some of the various sample sizes required for statistical tests of varying power, effect size and type I errors, propose an experimental design to pitch to your boss and some of the accompanying advantages or disadvantages with it."
   ]
  },
  {
   "cell_type": "markdown",
   "metadata": {},
   "source": [
    "### Your answer here"
   ]
  },
  {
   "cell_type": "markdown",
   "metadata": {},
   "source": [
    "## Summary\n",
    "\n",
    "In this lab, you practiced designing an initial experiment and then refined the parameters of the experiment based on an initial sample to determine feasibility."
   ]
  }
 ],
 "metadata": {
  "kernelspec": {
   "display_name": "Python 3",
   "language": "python",
   "name": "python3"
  },
  "language_info": {
   "codemirror_mode": {
    "name": "ipython",
    "version": 3
   },
   "file_extension": ".py",
   "mimetype": "text/x-python",
   "name": "python",
   "nbconvert_exporter": "python",
   "pygments_lexer": "ipython3",
   "version": "3.6.6"
  }
 },
 "nbformat": 4,
 "nbformat_minor": 2
}
